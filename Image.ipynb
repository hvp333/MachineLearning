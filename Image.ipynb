{
  "nbformat": 4,
  "nbformat_minor": 0,
  "metadata": {
    "colab": {
      "name": "Image.ipynb",
      "provenance": [],
      "include_colab_link": true
    },
    "kernelspec": {
      "name": "python3",
      "display_name": "Python 3"
    }
  },
  "cells": [
    {
      "cell_type": "markdown",
      "metadata": {
        "id": "view-in-github",
        "colab_type": "text"
      },
      "source": [
        "<a href=\"https://colab.research.google.com/github/hvp333/MachineLearning/blob/master/Image.ipynb\" target=\"_parent\"><img src=\"https://colab.research.google.com/assets/colab-badge.svg\" alt=\"Open In Colab\"/></a>"
      ]
    },
    {
      "cell_type": "code",
      "metadata": {
        "id": "k8KJNfddPF00",
        "colab_type": "code",
        "colab": {}
      },
      "source": [
        "# Python program to read  \n",
        "# image using matplotlib \n",
        "  \n",
        "# importing matplotlib modules \n",
        "import matplotlib.image as mpimg \n",
        "import matplotlib.pyplot as plt \n",
        "  \n",
        "# Read Images \n",
        "img = mpimg.imread('g4g.png') \n",
        "  \n",
        "# Output Images \n",
        "plt.imshow(img) "
      ],
      "execution_count": 0,
      "outputs": []
    }
  ]
}