{
  "nbformat": 4,
  "nbformat_minor": 0,
  "metadata": {
    "colab": {
      "name": "Untitled1.ipynb",
      "provenance": [],
      "include_colab_link": true
    },
    "kernelspec": {
      "name": "python3",
      "display_name": "Python 3"
    }
  },
  "cells": [
    {
      "cell_type": "markdown",
      "metadata": {
        "id": "view-in-github",
        "colab_type": "text"
      },
      "source": [
        "<a href=\"https://colab.research.google.com/github/hvp333/MachineLearning/blob/master/Lec10-ArrayTransposition.ipynb\" target=\"_parent\"><img src=\"https://colab.research.google.com/assets/colab-badge.svg\" alt=\"Open In Colab\"/></a>"
      ]
    },
    {
      "cell_type": "code",
      "metadata": {
        "id": "pBqLze_5BUAj",
        "colab_type": "code",
        "colab": {}
      },
      "source": [
        "import numpy as np"
      ],
      "execution_count": 0,
      "outputs": []
    },
    {
      "cell_type": "code",
      "metadata": {
        "id": "DlUG6ebvBcei",
        "colab_type": "code",
        "colab": {}
      },
      "source": [
        "arr = np.arange(50).reshape((10,5))"
      ],
      "execution_count": 0,
      "outputs": []
    },
    {
      "cell_type": "code",
      "metadata": {
        "id": "0mtf_BqRBsaT",
        "colab_type": "code",
        "colab": {
          "base_uri": "https://localhost:8080/",
          "height": 185
        },
        "outputId": "1cf7f791-1bbe-4de0-99c5-afa1fe662adf"
      },
      "source": [
        "arr"
      ],
      "execution_count": 3,
      "outputs": [
        {
          "output_type": "execute_result",
          "data": {
            "text/plain": [
              "array([[ 0,  1,  2,  3,  4],\n",
              "       [ 5,  6,  7,  8,  9],\n",
              "       [10, 11, 12, 13, 14],\n",
              "       [15, 16, 17, 18, 19],\n",
              "       [20, 21, 22, 23, 24],\n",
              "       [25, 26, 27, 28, 29],\n",
              "       [30, 31, 32, 33, 34],\n",
              "       [35, 36, 37, 38, 39],\n",
              "       [40, 41, 42, 43, 44],\n",
              "       [45, 46, 47, 48, 49]])"
            ]
          },
          "metadata": {
            "tags": []
          },
          "execution_count": 3
        }
      ]
    },
    {
      "cell_type": "code",
      "metadata": {
        "id": "YeiXUqA8BvTc",
        "colab_type": "code",
        "colab": {
          "base_uri": "https://localhost:8080/",
          "height": 101
        },
        "outputId": "c8cb66e2-4879-4539-c206-c52dd02da963"
      },
      "source": [
        "arr.T"
      ],
      "execution_count": 4,
      "outputs": [
        {
          "output_type": "execute_result",
          "data": {
            "text/plain": [
              "array([[ 0,  5, 10, 15, 20, 25, 30, 35, 40, 45],\n",
              "       [ 1,  6, 11, 16, 21, 26, 31, 36, 41, 46],\n",
              "       [ 2,  7, 12, 17, 22, 27, 32, 37, 42, 47],\n",
              "       [ 3,  8, 13, 18, 23, 28, 33, 38, 43, 48],\n",
              "       [ 4,  9, 14, 19, 24, 29, 34, 39, 44, 49]])"
            ]
          },
          "metadata": {
            "tags": []
          },
          "execution_count": 4
        }
      ]
    },
    {
      "cell_type": "code",
      "metadata": {
        "id": "VHmPkhXoB3uI",
        "colab_type": "code",
        "colab": {
          "base_uri": "https://localhost:8080/",
          "height": 353
        },
        "outputId": "5acbc443-5848-46dc-8d42-d4b533f99e4b"
      },
      "source": [
        "np.dot(arr,arr.T)"
      ],
      "execution_count": 5,
      "outputs": [
        {
          "output_type": "execute_result",
          "data": {
            "text/plain": [
              "array([[   30,    80,   130,   180,   230,   280,   330,   380,   430,\n",
              "          480],\n",
              "       [   80,   255,   430,   605,   780,   955,  1130,  1305,  1480,\n",
              "         1655],\n",
              "       [  130,   430,   730,  1030,  1330,  1630,  1930,  2230,  2530,\n",
              "         2830],\n",
              "       [  180,   605,  1030,  1455,  1880,  2305,  2730,  3155,  3580,\n",
              "         4005],\n",
              "       [  230,   780,  1330,  1880,  2430,  2980,  3530,  4080,  4630,\n",
              "         5180],\n",
              "       [  280,   955,  1630,  2305,  2980,  3655,  4330,  5005,  5680,\n",
              "         6355],\n",
              "       [  330,  1130,  1930,  2730,  3530,  4330,  5130,  5930,  6730,\n",
              "         7530],\n",
              "       [  380,  1305,  2230,  3155,  4080,  5005,  5930,  6855,  7780,\n",
              "         8705],\n",
              "       [  430,  1480,  2530,  3580,  4630,  5680,  6730,  7780,  8830,\n",
              "         9880],\n",
              "       [  480,  1655,  2830,  4005,  5180,  6355,  7530,  8705,  9880,\n",
              "        11055]])"
            ]
          },
          "metadata": {
            "tags": []
          },
          "execution_count": 5
        }
      ]
    },
    {
      "cell_type": "code",
      "metadata": {
        "id": "5ZUn3neDDGuE",
        "colab_type": "code",
        "colab": {
          "base_uri": "https://localhost:8080/",
          "height": 353
        },
        "outputId": "e738ad48-9495-45b6-e7e3-219ac2115895"
      },
      "source": [
        "np.dot(arr,arr.T)"
      ],
      "execution_count": 6,
      "outputs": [
        {
          "output_type": "execute_result",
          "data": {
            "text/plain": [
              "array([[   30,    80,   130,   180,   230,   280,   330,   380,   430,\n",
              "          480],\n",
              "       [   80,   255,   430,   605,   780,   955,  1130,  1305,  1480,\n",
              "         1655],\n",
              "       [  130,   430,   730,  1030,  1330,  1630,  1930,  2230,  2530,\n",
              "         2830],\n",
              "       [  180,   605,  1030,  1455,  1880,  2305,  2730,  3155,  3580,\n",
              "         4005],\n",
              "       [  230,   780,  1330,  1880,  2430,  2980,  3530,  4080,  4630,\n",
              "         5180],\n",
              "       [  280,   955,  1630,  2305,  2980,  3655,  4330,  5005,  5680,\n",
              "         6355],\n",
              "       [  330,  1130,  1930,  2730,  3530,  4330,  5130,  5930,  6730,\n",
              "         7530],\n",
              "       [  380,  1305,  2230,  3155,  4080,  5005,  5930,  6855,  7780,\n",
              "         8705],\n",
              "       [  430,  1480,  2530,  3580,  4630,  5680,  6730,  7780,  8830,\n",
              "         9880],\n",
              "       [  480,  1655,  2830,  4005,  5180,  6355,  7530,  8705,  9880,\n",
              "        11055]])"
            ]
          },
          "metadata": {
            "tags": []
          },
          "execution_count": 6
        }
      ]
    },
    {
      "cell_type": "code",
      "metadata": {
        "id": "hP7lk2THDNZe",
        "colab_type": "code",
        "colab": {}
      },
      "source": [
        "arr3d = np.arange(60).reshape(10,3,2)"
      ],
      "execution_count": 0,
      "outputs": []
    },
    {
      "cell_type": "code",
      "metadata": {
        "id": "u1FAsACXD4o6",
        "colab_type": "code",
        "colab": {
          "base_uri": "https://localhost:8080/",
          "height": 672
        },
        "outputId": "46daa23f-05b8-4a83-bcb5-803a21bd3471"
      },
      "source": [
        "arr3d"
      ],
      "execution_count": 8,
      "outputs": [
        {
          "output_type": "execute_result",
          "data": {
            "text/plain": [
              "array([[[ 0,  1],\n",
              "        [ 2,  3],\n",
              "        [ 4,  5]],\n",
              "\n",
              "       [[ 6,  7],\n",
              "        [ 8,  9],\n",
              "        [10, 11]],\n",
              "\n",
              "       [[12, 13],\n",
              "        [14, 15],\n",
              "        [16, 17]],\n",
              "\n",
              "       [[18, 19],\n",
              "        [20, 21],\n",
              "        [22, 23]],\n",
              "\n",
              "       [[24, 25],\n",
              "        [26, 27],\n",
              "        [28, 29]],\n",
              "\n",
              "       [[30, 31],\n",
              "        [32, 33],\n",
              "        [34, 35]],\n",
              "\n",
              "       [[36, 37],\n",
              "        [38, 39],\n",
              "        [40, 41]],\n",
              "\n",
              "       [[42, 43],\n",
              "        [44, 45],\n",
              "        [46, 47]],\n",
              "\n",
              "       [[48, 49],\n",
              "        [50, 51],\n",
              "        [52, 53]],\n",
              "\n",
              "       [[54, 55],\n",
              "        [56, 57],\n",
              "        [58, 59]]])"
            ]
          },
          "metadata": {
            "tags": []
          },
          "execution_count": 8
        }
      ]
    },
    {
      "cell_type": "code",
      "metadata": {
        "id": "4PHNxqFSD6cg",
        "colab_type": "code",
        "colab": {
          "base_uri": "https://localhost:8080/",
          "height": 554
        },
        "outputId": "28180967-816d-468e-e4a5-35ef268760d8"
      },
      "source": [
        "arr3d.transpose((1,0,2))"
      ],
      "execution_count": 9,
      "outputs": [
        {
          "output_type": "execute_result",
          "data": {
            "text/plain": [
              "array([[[ 0,  1],\n",
              "        [ 6,  7],\n",
              "        [12, 13],\n",
              "        [18, 19],\n",
              "        [24, 25],\n",
              "        [30, 31],\n",
              "        [36, 37],\n",
              "        [42, 43],\n",
              "        [48, 49],\n",
              "        [54, 55]],\n",
              "\n",
              "       [[ 2,  3],\n",
              "        [ 8,  9],\n",
              "        [14, 15],\n",
              "        [20, 21],\n",
              "        [26, 27],\n",
              "        [32, 33],\n",
              "        [38, 39],\n",
              "        [44, 45],\n",
              "        [50, 51],\n",
              "        [56, 57]],\n",
              "\n",
              "       [[ 4,  5],\n",
              "        [10, 11],\n",
              "        [16, 17],\n",
              "        [22, 23],\n",
              "        [28, 29],\n",
              "        [34, 35],\n",
              "        [40, 41],\n",
              "        [46, 47],\n",
              "        [52, 53],\n",
              "        [58, 59]]])"
            ]
          },
          "metadata": {
            "tags": []
          },
          "execution_count": 9
        }
      ]
    },
    {
      "cell_type": "code",
      "metadata": {
        "id": "uChNDGZ5Eytr",
        "colab_type": "code",
        "colab": {}
      },
      "source": [
        "arr = np.array([1,2,3])"
      ],
      "execution_count": 0,
      "outputs": []
    },
    {
      "cell_type": "code",
      "metadata": {
        "id": "u61HxNecE6gE",
        "colab_type": "code",
        "colab": {
          "base_uri": "https://localhost:8080/",
          "height": 34
        },
        "outputId": "eaeaa4ca-c26a-4d09-d6be-b8d4d7e8134a"
      },
      "source": [
        "arr"
      ],
      "execution_count": 11,
      "outputs": [
        {
          "output_type": "execute_result",
          "data": {
            "text/plain": [
              "array([1, 2, 3])"
            ]
          },
          "metadata": {
            "tags": []
          },
          "execution_count": 11
        }
      ]
    },
    {
      "cell_type": "code",
      "metadata": {
        "id": "zVQybXCME7r4",
        "colab_type": "code",
        "colab": {
          "base_uri": "https://localhost:8080/",
          "height": 162
        },
        "outputId": "ceb64db8-44e1-4c22-af3e-1c12f5b8b8e4"
      },
      "source": [
        ""
      ],
      "execution_count": 13,
      "outputs": [
        {
          "output_type": "error",
          "ename": "TypeError",
          "evalue": "ignored",
          "traceback": [
            "\u001b[0;31m---------------------------------------------------------------------------\u001b[0m",
            "\u001b[0;31mTypeError\u001b[0m                                 Traceback (most recent call last)",
            "\u001b[0;32m<ipython-input-13-9a8be8a6df77>\u001b[0m in \u001b[0;36m<module>\u001b[0;34m()\u001b[0m\n\u001b[0;32m----> 1\u001b[0;31m \u001b[0marr\u001b[0m\u001b[0;34m.\u001b[0m\u001b[0mswapaxes\u001b[0m\u001b[0;34m(\u001b[0m\u001b[0;34m(\u001b[0m\u001b[0;36m0\u001b[0m\u001b[0;34m,\u001b[0m\u001b[0;36m1\u001b[0m\u001b[0;34m)\u001b[0m\u001b[0;34m)\u001b[0m\u001b[0;34m\u001b[0m\u001b[0;34m\u001b[0m\u001b[0m\n\u001b[0m",
            "\u001b[0;31mTypeError\u001b[0m: swapaxes() takes exactly 2 arguments (1 given)"
          ]
        }
      ]
    },
    {
      "cell_type": "code",
      "metadata": {
        "id": "p_cDk0B-FIX_",
        "colab_type": "code",
        "colab": {
          "base_uri": "https://localhost:8080/",
          "height": 162
        },
        "outputId": "b0fcd7f4-8263-4bde-a6e5-7eb2a469e12b"
      },
      "source": [
        "arr.swapaxes(0,1)"
      ],
      "execution_count": 14,
      "outputs": [
        {
          "output_type": "error",
          "ename": "AxisError",
          "evalue": "ignored",
          "traceback": [
            "\u001b[0;31m---------------------------------------------------------------------------\u001b[0m",
            "\u001b[0;31mAxisError\u001b[0m                                 Traceback (most recent call last)",
            "\u001b[0;32m<ipython-input-14-9e4d35381810>\u001b[0m in \u001b[0;36m<module>\u001b[0;34m()\u001b[0m\n\u001b[0;32m----> 1\u001b[0;31m \u001b[0marr\u001b[0m\u001b[0;34m.\u001b[0m\u001b[0mswapaxes\u001b[0m\u001b[0;34m(\u001b[0m\u001b[0;36m0\u001b[0m\u001b[0;34m,\u001b[0m\u001b[0;36m1\u001b[0m\u001b[0;34m)\u001b[0m\u001b[0;34m\u001b[0m\u001b[0;34m\u001b[0m\u001b[0m\n\u001b[0m",
            "\u001b[0;31mAxisError\u001b[0m: axis2: axis 1 is out of bounds for array of dimension 1"
          ]
        }
      ]
    },
    {
      "cell_type": "code",
      "metadata": {
        "id": "jcAgpSPuFmWg",
        "colab_type": "code",
        "colab": {}
      },
      "source": [
        "arr = np.array([[1,2,3],[24,5,7]])"
      ],
      "execution_count": 0,
      "outputs": []
    },
    {
      "cell_type": "code",
      "metadata": {
        "id": "csryV9cLF4vE",
        "colab_type": "code",
        "colab": {
          "base_uri": "https://localhost:8080/",
          "height": 50
        },
        "outputId": "e5964338-b0c0-442d-ecdb-8414eaf1b77d"
      },
      "source": [
        "arr"
      ],
      "execution_count": 16,
      "outputs": [
        {
          "output_type": "execute_result",
          "data": {
            "text/plain": [
              "array([[ 1,  2,  3],\n",
              "       [24,  5,  7]])"
            ]
          },
          "metadata": {
            "tags": []
          },
          "execution_count": 16
        }
      ]
    },
    {
      "cell_type": "code",
      "metadata": {
        "id": "Y_qKOrT-F6c5",
        "colab_type": "code",
        "colab": {
          "base_uri": "https://localhost:8080/",
          "height": 67
        },
        "outputId": "a3d069a2-b546-4c0f-f68d-4d8adcff3828"
      },
      "source": [
        "arr.swapaxes(0,1)"
      ],
      "execution_count": 17,
      "outputs": [
        {
          "output_type": "execute_result",
          "data": {
            "text/plain": [
              "array([[ 1, 24],\n",
              "       [ 2,  5],\n",
              "       [ 3,  7]])"
            ]
          },
          "metadata": {
            "tags": []
          },
          "execution_count": 17
        }
      ]
    },
    {
      "cell_type": "code",
      "metadata": {
        "id": "lu15mZucF-Kq",
        "colab_type": "code",
        "colab": {}
      },
      "source": [
        ""
      ],
      "execution_count": 0,
      "outputs": []
    }
  ]
}